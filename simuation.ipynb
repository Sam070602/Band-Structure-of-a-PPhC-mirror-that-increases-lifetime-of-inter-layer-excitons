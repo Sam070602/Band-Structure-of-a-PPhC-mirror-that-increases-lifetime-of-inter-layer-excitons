{
 "cells": [
  {
   "cell_type": "code",
   "execution_count": 1,
   "metadata": {},
   "outputs": [
    {
     "ename": "ModuleNotFoundError",
     "evalue": "No module named 'meep'",
     "output_type": "error",
     "traceback": [
      "\u001b[1;31m---------------------------------------------------------------------------\u001b[0m",
      "\u001b[1;31mModuleNotFoundError\u001b[0m                       Traceback (most recent call last)",
      "\u001b[1;32m<ipython-input-1-2dfee449ae15>\u001b[0m in \u001b[0;36m<module>\u001b[1;34m\u001b[0m\n\u001b[1;32m----> 1\u001b[1;33m \u001b[1;32mimport\u001b[0m \u001b[0mmeep\u001b[0m \u001b[1;32mas\u001b[0m \u001b[0mmp\u001b[0m\u001b[1;33m\u001b[0m\u001b[1;33m\u001b[0m\u001b[0m\n\u001b[0m\u001b[0;32m      2\u001b[0m \u001b[1;32mimport\u001b[0m \u001b[0mnumpy\u001b[0m \u001b[1;32mas\u001b[0m \u001b[0mnp\u001b[0m\u001b[1;33m\u001b[0m\u001b[1;33m\u001b[0m\u001b[0m\n\u001b[0;32m      3\u001b[0m \u001b[1;32mfrom\u001b[0m \u001b[0mmatplotlib\u001b[0m \u001b[1;32mimport\u001b[0m \u001b[0mpyplot\u001b[0m \u001b[1;32mas\u001b[0m \u001b[0mplt\u001b[0m\u001b[1;33m\u001b[0m\u001b[1;33m\u001b[0m\u001b[0m\n\u001b[0;32m      4\u001b[0m \u001b[1;33m\u001b[0m\u001b[0m\n\u001b[0;32m      5\u001b[0m \u001b[1;33m\u001b[0m\u001b[0m\n",
      "\u001b[1;31mModuleNotFoundError\u001b[0m: No module named 'meep'"
     ]
    }
   ],
   "source": [
    "\n",
    "%%capture\n",
    "import meep as mp\n",
    "import numpy as np\n",
    "from matplotlib import pyplot as plt\n",
    "\n",
    "\n",
    "from IPython.display import Video\n",
    "%matplotlib notebook"
   ]
  },
  {
   "cell_type": "code",
   "execution_count": null,
   "metadata": {},
   "outputs": [],
   "source": [
    "#standard length is 0.1 um\n",
    "d = 5.44\n",
    "\n",
    "cell = mp.Vector3(d, d, 0.15)\n",
    "\n",
    "block1 = mp.Block(size=mp.Vector3(d, d, 1.3), center = mp.Vector3(0, 0, -0.1), material=mp.Medium(epsilon=1.46))\n",
    "block2 = mp.Block(size=mp.Vector3(d, d, 0.2), center = mp.Vector3(0, 0, 0.65), material=mp.Medium(epsilon=2))\n",
    "geometry = [block1, block2]\n",
    "for i in range(2):\n",
    "    for j in range(2):\n",
    "        c = mp.Cylinder(radius=0.64, center=mp.Vector3(-1.36 + 2.72*i, -1.36 + 2.72*j, -0.42), height = 0.66, material = mp.Medium(epsilon = 100))\n",
    "        geometry.append(c)\n",
    "\n",
    "                        \n",
    "        \n",
    "        \n",
    "\n",
    "\n",
    "\n",
    "resolution = 20\n",
    "\n",
    "fcen = 0.25 \n",
    "df = 1.5    \n",
    "\n",
    "s = [mp.Source(src=mp.GaussianSource(fcen, fwidth=df), component=mp.Hz,\n",
    "              center=mp.Vector3(0,0))]\n",
    "\n",
    "sim = mp.Simulation(cell_size=cell,\n",
    "                    geometry=geometry,\n",
    "                    sources=s,    \n",
    "                    resolution=resolution)\n",
    "\n",
    "\n",
    "sim.restart_fields()\n",
    "k_interp = 100\n",
    "kpts = mp.interpolate(k_interp, [mp.Vector3(0), mp.Vector3(0.1)])\n",
    "all_freqs = (sim.run_k_points(100, kpts))\n",
    "\n",
    "\n",
    "kx = np.array([k.x for k in kpts])\n",
    "\n",
    "\n",
    "plt.plot(kx, 12.42*np.real(list(list(zip(*all_freqs))[0])))\n",
    "plt.plot(kx, 12.42*np.real(list(list(zip(*all_freqs))[1])))\n",
    "\n",
    "\n",
    "plt.show()\n",
    "\n",
    "\n",
    "    \n",
    "    \n",
    "\n"
   ]
  },
  {
   "cell_type": "code",
   "execution_count": null,
   "metadata": {},
   "outputs": [],
   "source": []
  },
  {
   "cell_type": "code",
   "execution_count": null,
   "metadata": {},
   "outputs": [],
   "source": []
  },
  {
   "cell_type": "code",
   "execution_count": null,
   "metadata": {},
   "outputs": [],
   "source": []
  }
 ],
 "metadata": {
  "kernelspec": {
   "display_name": "Python 3.8.5 ('base')",
   "language": "python",
   "name": "python3"
  },
  "language_info": {
   "codemirror_mode": {
    "name": "ipython",
    "version": 3
   },
   "file_extension": ".py",
   "mimetype": "text/x-python",
   "name": "python",
   "nbconvert_exporter": "python",
   "pygments_lexer": "ipython3",
   "version": "3.8.5"
  },
  "vscode": {
   "interpreter": {
    "hash": "26a8c0038799f239e09ed93f9ec410f2edcaf0351ba2342e321535cfead6c7ab"
   }
  }
 },
 "nbformat": 4,
 "nbformat_minor": 4
}
